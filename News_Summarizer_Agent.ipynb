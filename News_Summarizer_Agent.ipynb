{
  "nbformat": 4,
  "nbformat_minor": 0,
  "metadata": {
    "colab": {
      "provenance": [],
      "authorship_tag": "ABX9TyMehvavckazGAKRvQHQpVro",
      "include_colab_link": true
    },
    "kernelspec": {
      "name": "python3",
      "display_name": "Python 3"
    },
    "language_info": {
      "name": "python"
    }
  },
  "cells": [
    {
      "cell_type": "markdown",
      "metadata": {
        "id": "view-in-github",
        "colab_type": "text"
      },
      "source": [
        "<a href=\"https://colab.research.google.com/github/Dreadnought73/AI_projects/blob/main/News_Summarizer_Agent.ipynb\" target=\"_parent\"><img src=\"https://colab.research.google.com/assets/colab-badge.svg\" alt=\"Open In Colab\"/></a>"
      ]
    },
    {
      "cell_type": "markdown",
      "source": [
        "# Using prompt template"
      ],
      "metadata": {
        "id": "zOMG80g9OBnD"
      }
    },
    {
      "cell_type": "markdown",
      "source": [
        "**News summarizer with DDGS and OpenAI**"
      ],
      "metadata": {
        "id": "vOJRPkrFRa0m"
      }
    },
    {
      "cell_type": "markdown",
      "source": [
        "In this section, with the help of an LLM, it uses web search to find relevant articles and summarizes them based on the prompt template."
      ],
      "metadata": {
        "id": "R7Nw6ZLaDoZZ"
      }
    },
    {
      "cell_type": "code",
      "source": [
        "pip install duckduckgo_search"
      ],
      "metadata": {
        "colab": {
          "base_uri": "https://localhost:8080/"
        },
        "id": "zU-n1C0Rk--m",
        "outputId": "18a86305-7ec4-4a66-917e-9d699469859d"
      },
      "execution_count": 5,
      "outputs": [
        {
          "output_type": "stream",
          "name": "stdout",
          "text": [
            "Collecting duckduckgo_search\n",
            "  Downloading duckduckgo_search-8.0.2-py3-none-any.whl.metadata (16 kB)\n",
            "Requirement already satisfied: click>=8.1.8 in /usr/local/lib/python3.11/dist-packages (from duckduckgo_search) (8.2.1)\n",
            "Collecting primp>=0.15.0 (from duckduckgo_search)\n",
            "  Downloading primp-0.15.0-cp38-abi3-manylinux_2_17_x86_64.manylinux2014_x86_64.whl.metadata (13 kB)\n",
            "Requirement already satisfied: lxml>=5.3.0 in /usr/local/lib/python3.11/dist-packages (from duckduckgo_search) (5.4.0)\n",
            "Downloading duckduckgo_search-8.0.2-py3-none-any.whl (18 kB)\n",
            "Downloading primp-0.15.0-cp38-abi3-manylinux_2_17_x86_64.manylinux2014_x86_64.whl (3.3 MB)\n",
            "\u001b[2K   \u001b[90m━━━━━━━━━━━━━━━━━━━━━━━━━━━━━━━━━━━━━━━━\u001b[0m \u001b[32m3.3/3.3 MB\u001b[0m \u001b[31m36.1 MB/s\u001b[0m eta \u001b[36m0:00:00\u001b[0m\n",
            "\u001b[?25hInstalling collected packages: primp, duckduckgo_search\n",
            "Successfully installed duckduckgo_search-8.0.2 primp-0.15.0\n"
          ]
        }
      ]
    },
    {
      "cell_type": "code",
      "source": [
        "from duckduckgo_search import DDGS\n",
        "from openai import OpenAI\n",
        "\n",
        "llm = OpenAI(api_key='your_api_key')\n",
        "\n",
        "PROMPT_TEMPLATE = \"\"\"\n",
        "You are an expert in synthesizing and summarizing news articles across a wide range of topics.\n",
        "Your output should reflect both deep analytical ability and journalistic clarity, combining the precision of AP/Reuters style with the brevity and relevance expected in the digital age.\n",
        "\n",
        "Your task:\n",
        "1. Content Analysis & Synthesis\n",
        "   - Carefully read and analyze the provided news articles.\n",
        "   - Identify the key themes, facts, and developments.\n",
        "   - Distill overlapping or contrasting perspectives into a unified understanding.\n",
        "   - Create a concise, insightful report that captures the essence of the topic without losing important nuance.\n",
        "\n",
        "2. Summary Format & Style Guidelines\n",
        "   - Begin with the most newsworthy development.\n",
        "   - Highlight the key stakeholders, actions taken, and critical data or numbers.\n",
        "   - Explain why the development is significant now**, including any immediate implications or broader impact.\n",
        "   - Follow this structure:\n",
        "     [Major News] + [Key Details/Data] + [Why It Matters/What’s Next]\n",
        "   - Write a single paragraph (300–400 words).\n",
        "   - Style should include:\n",
        "     - Strong, active verbs\n",
        "     - Specificity and clarity\n",
        "     - Objective tone and neutral framing\n",
        "     - Definitions for technical terms if necessary\n",
        "     - No fluff—make every word count\n",
        "\n",
        "3. Final Section: Sources\n",
        "   - At the end of the summary, provide a Markdown list of the sources used (URLs, publication names, or article titles).\n",
        "\n",
        "Your output should both inform and engage while maintaining high editorial standards.\n",
        "\"\"\"\n",
        "\n",
        "# Using DuckDuckGo, it searches the news for 7 relevant articles\n",
        "def search_news(query: str):\n",
        "    with DDGS() as ddgs:\n",
        "        results = ddgs.news(query, max_results=7)\n",
        "        if results:\n",
        "          news_results = '/n/n'.join([\n",
        "              f\"Summary: {result.get('body')}/nSource: {result.get('source')}\"\n",
        "          for result in results])\n",
        "          return news_results\n",
        "        else:\n",
        "            return f\"No news found for {topic}.\"\n",
        "\n",
        "# Based on one prompt, it creates the summaries\n",
        "def summarize_content(content:str):\n",
        "  response = llm.chat.completions.create(\n",
        "      model='gpt-4o-mini',\n",
        "      messages=[\n",
        "          {\"role\": \"developer\", \"content\": PROMPT_TEMPLATE},\n",
        "          {\"role\": \"user\", \"content\": content}\n",
        "      ]\n",
        "  )\n",
        "  return response.choices[0].message.content"
      ],
      "metadata": {
        "id": "SuIghj_8nSbT"
      },
      "execution_count": 49,
      "outputs": []
    },
    {
      "cell_type": "code",
      "source": [
        "# Combines the previous functions\n",
        "def router(topic: str):\n",
        "  raw_news = search_news(topic)\n",
        "  summary_response = summarize_content(raw_news)\n",
        "  return summary_response"
      ],
      "metadata": {
        "id": "h4FWJkQey4Y2"
      },
      "execution_count": 50,
      "outputs": []
    },
    {
      "cell_type": "markdown",
      "source": [
        "# Using multi-agent system"
      ],
      "metadata": {
        "id": "oz1f2rYQN7to"
      }
    },
    {
      "cell_type": "code",
      "source": [
        "!pip install git+https://github.com/openai/swarm.git"
      ],
      "metadata": {
        "colab": {
          "base_uri": "https://localhost:8080/"
        },
        "collapsed": true,
        "id": "ROZWiIC8ndml",
        "outputId": "58f76550-fc12-4af1-a2b6-138f7fdc6085"
      },
      "execution_count": null,
      "outputs": [
        {
          "output_type": "stream",
          "name": "stdout",
          "text": [
            "Collecting git+https://github.com/openai/swarm.git\n",
            "  Cloning https://github.com/openai/swarm.git to /tmp/pip-req-build-e_pe85o0\n",
            "  Running command git clone --filter=blob:none --quiet https://github.com/openai/swarm.git /tmp/pip-req-build-e_pe85o0\n",
            "  Resolved https://github.com/openai/swarm.git to commit 0c82d7d868bb8e2d380dfd2a319b5c3a1f4c0cb9\n",
            "  Installing build dependencies ... \u001b[?25l\u001b[?25hdone\n",
            "  Getting requirements to build wheel ... \u001b[?25l\u001b[?25hdone\n",
            "  Preparing metadata (pyproject.toml) ... \u001b[?25l\u001b[?25hdone\n",
            "Collecting streamlit\n",
            "  Downloading streamlit-1.45.1-py3-none-any.whl.metadata (8.9 kB)\n",
            "Collecting duckduckgo_search\n",
            "  Downloading duckduckgo_search-8.0.2-py3-none-any.whl.metadata (16 kB)\n",
            "Requirement already satisfied: altair<6,>=4.0 in /usr/local/lib/python3.11/dist-packages (from streamlit) (5.5.0)\n",
            "Requirement already satisfied: blinker<2,>=1.5.0 in /usr/local/lib/python3.11/dist-packages (from streamlit) (1.9.0)\n",
            "Requirement already satisfied: cachetools<6,>=4.0 in /usr/local/lib/python3.11/dist-packages (from streamlit) (5.5.2)\n",
            "Requirement already satisfied: click<9,>=7.0 in /usr/local/lib/python3.11/dist-packages (from streamlit) (8.2.1)\n",
            "Requirement already satisfied: numpy<3,>=1.23 in /usr/local/lib/python3.11/dist-packages (from streamlit) (2.0.2)\n",
            "Requirement already satisfied: packaging<25,>=20 in /usr/local/lib/python3.11/dist-packages (from streamlit) (24.2)\n",
            "Requirement already satisfied: pandas<3,>=1.4.0 in /usr/local/lib/python3.11/dist-packages (from streamlit) (2.2.2)\n",
            "Requirement already satisfied: pillow<12,>=7.1.0 in /usr/local/lib/python3.11/dist-packages (from streamlit) (11.2.1)\n",
            "Requirement already satisfied: protobuf<7,>=3.20 in /usr/local/lib/python3.11/dist-packages (from streamlit) (5.29.4)\n",
            "Requirement already satisfied: pyarrow>=7.0 in /usr/local/lib/python3.11/dist-packages (from streamlit) (18.1.0)\n",
            "Requirement already satisfied: requests<3,>=2.27 in /usr/local/lib/python3.11/dist-packages (from streamlit) (2.32.3)\n",
            "Requirement already satisfied: tenacity<10,>=8.1.0 in /usr/local/lib/python3.11/dist-packages (from streamlit) (9.1.2)\n",
            "Requirement already satisfied: toml<2,>=0.10.1 in /usr/local/lib/python3.11/dist-packages (from streamlit) (0.10.2)\n",
            "Requirement already satisfied: typing-extensions<5,>=4.4.0 in /usr/local/lib/python3.11/dist-packages (from streamlit) (4.13.2)\n",
            "Collecting watchdog<7,>=2.1.5 (from streamlit)\n",
            "  Downloading watchdog-6.0.0-py3-none-manylinux2014_x86_64.whl.metadata (44 kB)\n",
            "\u001b[2K     \u001b[90m━━━━━━━━━━━━━━━━━━━━━━━━━━━━━━━━━━━━━━━━\u001b[0m \u001b[32m44.3/44.3 kB\u001b[0m \u001b[31m2.0 MB/s\u001b[0m eta \u001b[36m0:00:00\u001b[0m\n",
            "\u001b[?25hRequirement already satisfied: gitpython!=3.1.19,<4,>=3.0.7 in /usr/local/lib/python3.11/dist-packages (from streamlit) (3.1.44)\n",
            "Collecting pydeck<1,>=0.8.0b4 (from streamlit)\n",
            "  Downloading pydeck-0.9.1-py2.py3-none-any.whl.metadata (4.1 kB)\n",
            "Requirement already satisfied: tornado<7,>=6.0.3 in /usr/local/lib/python3.11/dist-packages (from streamlit) (6.4.2)\n",
            "Collecting primp>=0.15.0 (from duckduckgo_search)\n",
            "  Downloading primp-0.15.0-cp38-abi3-manylinux_2_17_x86_64.manylinux2014_x86_64.whl.metadata (13 kB)\n",
            "Requirement already satisfied: lxml>=5.3.0 in /usr/local/lib/python3.11/dist-packages (from duckduckgo_search) (5.4.0)\n",
            "Requirement already satisfied: openai>=1.33.0 in /usr/local/lib/python3.11/dist-packages (from swarm==0.1.0) (1.81.0)\n",
            "Requirement already satisfied: pytest in /usr/local/lib/python3.11/dist-packages (from swarm==0.1.0) (8.3.5)\n",
            "Requirement already satisfied: tqdm in /usr/local/lib/python3.11/dist-packages (from swarm==0.1.0) (4.67.1)\n",
            "Collecting pre-commit (from swarm==0.1.0)\n",
            "  Downloading pre_commit-4.2.0-py2.py3-none-any.whl.metadata (1.3 kB)\n",
            "Collecting instructor (from swarm==0.1.0)\n",
            "  Downloading instructor-1.8.3-py3-none-any.whl.metadata (24 kB)\n",
            "Requirement already satisfied: jinja2 in /usr/local/lib/python3.11/dist-packages (from altair<6,>=4.0->streamlit) (3.1.6)\n",
            "Requirement already satisfied: jsonschema>=3.0 in /usr/local/lib/python3.11/dist-packages (from altair<6,>=4.0->streamlit) (4.23.0)\n",
            "Requirement already satisfied: narwhals>=1.14.2 in /usr/local/lib/python3.11/dist-packages (from altair<6,>=4.0->streamlit) (1.40.0)\n",
            "Requirement already satisfied: gitdb<5,>=4.0.1 in /usr/local/lib/python3.11/dist-packages (from gitpython!=3.1.19,<4,>=3.0.7->streamlit) (4.0.12)\n",
            "Requirement already satisfied: anyio<5,>=3.5.0 in /usr/local/lib/python3.11/dist-packages (from openai>=1.33.0->swarm==0.1.0) (4.9.0)\n",
            "Requirement already satisfied: distro<2,>=1.7.0 in /usr/local/lib/python3.11/dist-packages (from openai>=1.33.0->swarm==0.1.0) (1.9.0)\n",
            "Requirement already satisfied: httpx<1,>=0.23.0 in /usr/local/lib/python3.11/dist-packages (from openai>=1.33.0->swarm==0.1.0) (0.28.1)\n",
            "Requirement already satisfied: jiter<1,>=0.4.0 in /usr/local/lib/python3.11/dist-packages (from openai>=1.33.0->swarm==0.1.0) (0.10.0)\n",
            "Requirement already satisfied: pydantic<3,>=1.9.0 in /usr/local/lib/python3.11/dist-packages (from openai>=1.33.0->swarm==0.1.0) (2.11.4)\n",
            "Requirement already satisfied: sniffio in /usr/local/lib/python3.11/dist-packages (from openai>=1.33.0->swarm==0.1.0) (1.3.1)\n",
            "Requirement already satisfied: python-dateutil>=2.8.2 in /usr/local/lib/python3.11/dist-packages (from pandas<3,>=1.4.0->streamlit) (2.9.0.post0)\n",
            "Requirement already satisfied: pytz>=2020.1 in /usr/local/lib/python3.11/dist-packages (from pandas<3,>=1.4.0->streamlit) (2025.2)\n",
            "Requirement already satisfied: tzdata>=2022.7 in /usr/local/lib/python3.11/dist-packages (from pandas<3,>=1.4.0->streamlit) (2025.2)\n",
            "Requirement already satisfied: charset-normalizer<4,>=2 in /usr/local/lib/python3.11/dist-packages (from requests<3,>=2.27->streamlit) (3.4.2)\n",
            "Requirement already satisfied: idna<4,>=2.5 in /usr/local/lib/python3.11/dist-packages (from requests<3,>=2.27->streamlit) (3.10)\n",
            "Requirement already satisfied: urllib3<3,>=1.21.1 in /usr/local/lib/python3.11/dist-packages (from requests<3,>=2.27->streamlit) (2.4.0)\n",
            "Requirement already satisfied: certifi>=2017.4.17 in /usr/local/lib/python3.11/dist-packages (from requests<3,>=2.27->streamlit) (2025.4.26)\n",
            "Requirement already satisfied: aiohttp<4.0.0,>=3.9.1 in /usr/local/lib/python3.11/dist-packages (from instructor->swarm==0.1.0) (3.11.15)\n",
            "Requirement already satisfied: docstring-parser<1.0,>=0.16 in /usr/local/lib/python3.11/dist-packages (from instructor->swarm==0.1.0) (0.16)\n",
            "Collecting jiter<1,>=0.4.0 (from openai>=1.33.0->swarm==0.1.0)\n",
            "  Downloading jiter-0.8.2-cp311-cp311-manylinux_2_17_x86_64.manylinux2014_x86_64.whl.metadata (5.2 kB)\n",
            "Requirement already satisfied: pydantic-core<3.0.0,>=2.18.0 in /usr/local/lib/python3.11/dist-packages (from instructor->swarm==0.1.0) (2.33.2)\n",
            "Requirement already satisfied: rich<14.0.0,>=13.7.0 in /usr/local/lib/python3.11/dist-packages (from instructor->swarm==0.1.0) (13.9.4)\n",
            "Requirement already satisfied: typer<1.0.0,>=0.9.0 in /usr/local/lib/python3.11/dist-packages (from instructor->swarm==0.1.0) (0.15.3)\n",
            "Collecting cfgv>=2.0.0 (from pre-commit->swarm==0.1.0)\n",
            "  Downloading cfgv-3.4.0-py2.py3-none-any.whl.metadata (8.5 kB)\n",
            "Collecting identify>=1.0.0 (from pre-commit->swarm==0.1.0)\n",
            "  Downloading identify-2.6.12-py2.py3-none-any.whl.metadata (4.4 kB)\n",
            "Collecting nodeenv>=0.11.1 (from pre-commit->swarm==0.1.0)\n",
            "  Downloading nodeenv-1.9.1-py2.py3-none-any.whl.metadata (21 kB)\n",
            "Requirement already satisfied: pyyaml>=5.1 in /usr/local/lib/python3.11/dist-packages (from pre-commit->swarm==0.1.0) (6.0.2)\n",
            "Collecting virtualenv>=20.10.0 (from pre-commit->swarm==0.1.0)\n",
            "  Downloading virtualenv-20.31.2-py3-none-any.whl.metadata (4.5 kB)\n",
            "Requirement already satisfied: iniconfig in /usr/local/lib/python3.11/dist-packages (from pytest->swarm==0.1.0) (2.1.0)\n",
            "Requirement already satisfied: pluggy<2,>=1.5 in /usr/local/lib/python3.11/dist-packages (from pytest->swarm==0.1.0) (1.6.0)\n",
            "Requirement already satisfied: aiohappyeyeballs>=2.3.0 in /usr/local/lib/python3.11/dist-packages (from aiohttp<4.0.0,>=3.9.1->instructor->swarm==0.1.0) (2.6.1)\n",
            "Requirement already satisfied: aiosignal>=1.1.2 in /usr/local/lib/python3.11/dist-packages (from aiohttp<4.0.0,>=3.9.1->instructor->swarm==0.1.0) (1.3.2)\n",
            "Requirement already satisfied: attrs>=17.3.0 in /usr/local/lib/python3.11/dist-packages (from aiohttp<4.0.0,>=3.9.1->instructor->swarm==0.1.0) (25.3.0)\n",
            "Requirement already satisfied: frozenlist>=1.1.1 in /usr/local/lib/python3.11/dist-packages (from aiohttp<4.0.0,>=3.9.1->instructor->swarm==0.1.0) (1.6.0)\n",
            "Requirement already satisfied: multidict<7.0,>=4.5 in /usr/local/lib/python3.11/dist-packages (from aiohttp<4.0.0,>=3.9.1->instructor->swarm==0.1.0) (6.4.4)\n",
            "Requirement already satisfied: propcache>=0.2.0 in /usr/local/lib/python3.11/dist-packages (from aiohttp<4.0.0,>=3.9.1->instructor->swarm==0.1.0) (0.3.1)\n",
            "Requirement already satisfied: yarl<2.0,>=1.17.0 in /usr/local/lib/python3.11/dist-packages (from aiohttp<4.0.0,>=3.9.1->instructor->swarm==0.1.0) (1.20.0)\n",
            "Requirement already satisfied: smmap<6,>=3.0.1 in /usr/local/lib/python3.11/dist-packages (from gitdb<5,>=4.0.1->gitpython!=3.1.19,<4,>=3.0.7->streamlit) (5.0.2)\n",
            "Requirement already satisfied: httpcore==1.* in /usr/local/lib/python3.11/dist-packages (from httpx<1,>=0.23.0->openai>=1.33.0->swarm==0.1.0) (1.0.9)\n",
            "Requirement already satisfied: h11>=0.16 in /usr/local/lib/python3.11/dist-packages (from httpcore==1.*->httpx<1,>=0.23.0->openai>=1.33.0->swarm==0.1.0) (0.16.0)\n",
            "Requirement already satisfied: MarkupSafe>=2.0 in /usr/local/lib/python3.11/dist-packages (from jinja2->altair<6,>=4.0->streamlit) (3.0.2)\n",
            "Requirement already satisfied: jsonschema-specifications>=2023.03.6 in /usr/local/lib/python3.11/dist-packages (from jsonschema>=3.0->altair<6,>=4.0->streamlit) (2025.4.1)\n",
            "Requirement already satisfied: referencing>=0.28.4 in /usr/local/lib/python3.11/dist-packages (from jsonschema>=3.0->altair<6,>=4.0->streamlit) (0.36.2)\n",
            "Requirement already satisfied: rpds-py>=0.7.1 in /usr/local/lib/python3.11/dist-packages (from jsonschema>=3.0->altair<6,>=4.0->streamlit) (0.25.1)\n",
            "Requirement already satisfied: annotated-types>=0.6.0 in /usr/local/lib/python3.11/dist-packages (from pydantic<3,>=1.9.0->openai>=1.33.0->swarm==0.1.0) (0.7.0)\n",
            "Requirement already satisfied: typing-inspection>=0.4.0 in /usr/local/lib/python3.11/dist-packages (from pydantic<3,>=1.9.0->openai>=1.33.0->swarm==0.1.0) (0.4.1)\n",
            "Requirement already satisfied: six>=1.5 in /usr/local/lib/python3.11/dist-packages (from python-dateutil>=2.8.2->pandas<3,>=1.4.0->streamlit) (1.17.0)\n",
            "Requirement already satisfied: markdown-it-py>=2.2.0 in /usr/local/lib/python3.11/dist-packages (from rich<14.0.0,>=13.7.0->instructor->swarm==0.1.0) (3.0.0)\n",
            "Requirement already satisfied: pygments<3.0.0,>=2.13.0 in /usr/local/lib/python3.11/dist-packages (from rich<14.0.0,>=13.7.0->instructor->swarm==0.1.0) (2.19.1)\n",
            "Requirement already satisfied: shellingham>=1.3.0 in /usr/local/lib/python3.11/dist-packages (from typer<1.0.0,>=0.9.0->instructor->swarm==0.1.0) (1.5.4)\n",
            "Collecting distlib<1,>=0.3.7 (from virtualenv>=20.10.0->pre-commit->swarm==0.1.0)\n",
            "  Downloading distlib-0.3.9-py2.py3-none-any.whl.metadata (5.2 kB)\n",
            "Requirement already satisfied: filelock<4,>=3.12.2 in /usr/local/lib/python3.11/dist-packages (from virtualenv>=20.10.0->pre-commit->swarm==0.1.0) (3.18.0)\n",
            "Requirement already satisfied: platformdirs<5,>=3.9.1 in /usr/local/lib/python3.11/dist-packages (from virtualenv>=20.10.0->pre-commit->swarm==0.1.0) (4.3.8)\n",
            "Requirement already satisfied: mdurl~=0.1 in /usr/local/lib/python3.11/dist-packages (from markdown-it-py>=2.2.0->rich<14.0.0,>=13.7.0->instructor->swarm==0.1.0) (0.1.2)\n",
            "Downloading streamlit-1.45.1-py3-none-any.whl (9.9 MB)\n",
            "\u001b[2K   \u001b[90m━━━━━━━━━━━━━━━━━━━━━━━━━━━━━━━━━━━━━━━━\u001b[0m \u001b[32m9.9/9.9 MB\u001b[0m \u001b[31m65.9 MB/s\u001b[0m eta \u001b[36m0:00:00\u001b[0m\n",
            "\u001b[?25hDownloading duckduckgo_search-8.0.2-py3-none-any.whl (18 kB)\n",
            "Downloading primp-0.15.0-cp38-abi3-manylinux_2_17_x86_64.manylinux2014_x86_64.whl (3.3 MB)\n",
            "\u001b[2K   \u001b[90m━━━━━━━━━━━━━━━━━━━━━━━━━━━━━━━━━━━━━━━━\u001b[0m \u001b[32m3.3/3.3 MB\u001b[0m \u001b[31m65.0 MB/s\u001b[0m eta \u001b[36m0:00:00\u001b[0m\n",
            "\u001b[?25hDownloading pydeck-0.9.1-py2.py3-none-any.whl (6.9 MB)\n",
            "\u001b[2K   \u001b[90m━━━━━━━━━━━━━━━━━━━━━━━━━━━━━━━━━━━━━━━━\u001b[0m \u001b[32m6.9/6.9 MB\u001b[0m \u001b[31m75.4 MB/s\u001b[0m eta \u001b[36m0:00:00\u001b[0m\n",
            "\u001b[?25hDownloading watchdog-6.0.0-py3-none-manylinux2014_x86_64.whl (79 kB)\n",
            "\u001b[2K   \u001b[90m━━━━━━━━━━━━━━━━━━━━━━━━━━━━━━━━━━━━━━━━\u001b[0m \u001b[32m79.1/79.1 kB\u001b[0m \u001b[31m5.8 MB/s\u001b[0m eta \u001b[36m0:00:00\u001b[0m\n",
            "\u001b[?25hDownloading instructor-1.8.3-py3-none-any.whl (94 kB)\n",
            "\u001b[2K   \u001b[90m━━━━━━━━━━━━━━━━━━━━━━━━━━━━━━━━━━━━━━━━\u001b[0m \u001b[32m94.6/94.6 kB\u001b[0m \u001b[31m7.0 MB/s\u001b[0m eta \u001b[36m0:00:00\u001b[0m\n",
            "\u001b[?25hDownloading pre_commit-4.2.0-py2.py3-none-any.whl (220 kB)\n",
            "\u001b[2K   \u001b[90m━━━━━━━━━━━━━━━━━━━━━━━━━━━━━━━━━━━━━━━━\u001b[0m \u001b[32m220.7/220.7 kB\u001b[0m \u001b[31m18.1 MB/s\u001b[0m eta \u001b[36m0:00:00\u001b[0m\n",
            "\u001b[?25hDownloading cfgv-3.4.0-py2.py3-none-any.whl (7.2 kB)\n",
            "Downloading identify-2.6.12-py2.py3-none-any.whl (99 kB)\n",
            "\u001b[2K   \u001b[90m━━━━━━━━━━━━━━━━━━━━━━━━━━━━━━━━━━━━━━━━\u001b[0m \u001b[32m99.1/99.1 kB\u001b[0m \u001b[31m7.0 MB/s\u001b[0m eta \u001b[36m0:00:00\u001b[0m\n",
            "\u001b[?25hDownloading jiter-0.8.2-cp311-cp311-manylinux_2_17_x86_64.manylinux2014_x86_64.whl (345 kB)\n",
            "\u001b[2K   \u001b[90m━━━━━━━━━━━━━━━━━━━━━━━━━━━━━━━━━━━━━━━━\u001b[0m \u001b[32m345.6/345.6 kB\u001b[0m \u001b[31m21.0 MB/s\u001b[0m eta \u001b[36m0:00:00\u001b[0m\n",
            "\u001b[?25hDownloading nodeenv-1.9.1-py2.py3-none-any.whl (22 kB)\n",
            "Downloading virtualenv-20.31.2-py3-none-any.whl (6.1 MB)\n",
            "\u001b[2K   \u001b[90m━━━━━━━━━━━━━━━━━━━━━━━━━━━━━━━━━━━━━━━━\u001b[0m \u001b[32m6.1/6.1 MB\u001b[0m \u001b[31m64.3 MB/s\u001b[0m eta \u001b[36m0:00:00\u001b[0m\n",
            "\u001b[?25hDownloading distlib-0.3.9-py2.py3-none-any.whl (468 kB)\n",
            "\u001b[2K   \u001b[90m━━━━━━━━━━━━━━━━━━━━━━━━━━━━━━━━━━━━━━━━\u001b[0m \u001b[32m469.0/469.0 kB\u001b[0m \u001b[31m25.3 MB/s\u001b[0m eta \u001b[36m0:00:00\u001b[0m\n",
            "\u001b[?25hBuilding wheels for collected packages: swarm\n",
            "  Building wheel for swarm (pyproject.toml) ... \u001b[?25l\u001b[?25hdone\n",
            "  Created wheel for swarm: filename=swarm-0.1.0-py3-none-any.whl size=25913 sha256=6cca332f02e13022bee4b2543b54ea337f71b8f8f3f7259bfed4e0b5af5a52db\n",
            "  Stored in directory: /tmp/pip-ephem-wheel-cache-28pk4uvc/wheels/47/7e/5a/169b426f55cd9f5e72c56699396fb513a6b8d739a3d50bd9c6\n",
            "Successfully built swarm\n",
            "Installing collected packages: distlib, watchdog, virtualenv, primp, nodeenv, jiter, identify, cfgv, pydeck, pre-commit, duckduckgo_search, instructor, swarm, streamlit\n",
            "  Attempting uninstall: jiter\n",
            "    Found existing installation: jiter 0.10.0\n",
            "    Uninstalling jiter-0.10.0:\n",
            "      Successfully uninstalled jiter-0.10.0\n",
            "Successfully installed cfgv-3.4.0 distlib-0.3.9 duckduckgo_search-8.0.2 identify-2.6.12 instructor-1.8.3 jiter-0.8.2 nodeenv-1.9.1 pre-commit-4.2.0 primp-0.15.0 pydeck-0.9.1 streamlit-1.45.1 swarm-0.1.0 virtualenv-20.31.2 watchdog-6.0.0\n"
          ]
        }
      ]
    },
    {
      "cell_type": "markdown",
      "source": [
        "**News summarizer with Swarm**"
      ],
      "metadata": {
        "id": "y_ZBXHCK6bUJ"
      }
    },
    {
      "cell_type": "markdown",
      "source": [
        "In this section, with the help of an LLM, the task is divided among 3 separate agents. One searches the news articles, one extracts the information that can be useful, one summarizes the results."
      ],
      "metadata": {
        "id": "9Ev1LfTKGSpZ"
      }
    },
    {
      "cell_type": "code",
      "execution_count": null,
      "metadata": {
        "id": "4m75tALA01zu"
      },
      "outputs": [],
      "source": [
        "from duckduckgo_search import DDGS\n",
        "from swarm import Swarm, Agent\n",
        "from openai import OpenAI"
      ]
    },
    {
      "cell_type": "code",
      "source": [
        "llm = OpenAI(api_key='your_api_key')\n",
        "client = Swarm(client=llm)\n",
        "\n",
        "# Using DDGS to build a function that searches the top 5 results for the given topic.\n",
        "# If contents found, it combines them.\n",
        "def search_news(topic: str):\n",
        "    with DDGS() as ddgs:\n",
        "        results = ddgs.text(topic, max_results=5)\n",
        "        if results:\n",
        "            new_results = '/n/n'.join([\n",
        "                f\"Title: {result['title']}\\nSummary: {result['body']}\"\n",
        "                for result in results\n",
        "            ])\n",
        "        else:\n",
        "            return f\"No news found for {topic}.\"\n",
        "\n",
        "search_agent = Agent(\n",
        "    name=\"News Searcher\",\n",
        "    model='gpt-4o-mini',\n",
        "    instructions= \"\"\"\n",
        "    You are an expert at searching for news articles.\n",
        "    Your task is to find the latest news articles related to a given topic.\n",
        "    Make sure to use reliable and reputable sources during your search.\n",
        "    Return the raw search result in a structured format.\n",
        "    \"\"\",\n",
        "    functions=[search_news]\n",
        ")"
      ],
      "metadata": {
        "id": "_vjwsgs94M4W"
      },
      "execution_count": null,
      "outputs": []
    },
    {
      "cell_type": "code",
      "source": [
        "synthesis_agent = Agent(\n",
        "    name='Synthesiser Agent',\n",
        "    model='gpt-4o-mini',\n",
        "    instructions=\"\"\"\n",
        "    You are an expert at synthesising news articles on a wide range of topics.\n",
        "    Your task is to:\n",
        "    1. Analyze the raw news articles provided\n",
        "    2. Identify the key themes and important information\n",
        "    3. Combine information from multiple sources\n",
        "    4. Create a comprehensive but concise synthesis\n",
        "    5. Focus on facts and maintain journalistic objectivity\n",
        "    6. Write in a clear, professional style\n",
        "    Provide a 2-3 paragraph synthesis of the main points.\n",
        "    \"\"\"\n",
        ")"
      ],
      "metadata": {
        "id": "-8CEMswDqlRa"
      },
      "execution_count": null,
      "outputs": []
    },
    {
      "cell_type": "code",
      "source": [
        "summary_agent = Agent(\n",
        "    name='Summary Agent',\n",
        "    model='gpt-4o-mini',\n",
        "    instructions= \"\"\"\n",
        "    You are an expert news summarizer combining AP and Reuters style clarity with digital-age brevity.\n",
        "\n",
        "    Your task:\n",
        "    1. Core Information:\n",
        "       - Lead with the most newsworthy development\n",
        "       - Include key stakeholders and their actions\n",
        "       - Add critical numbers/data if relevant\n",
        "       - Explain why this matters now\n",
        "       - Mention immediate implications\n",
        "\n",
        "    2. Style Guidelines:\n",
        "       - Use strong, active verbs\n",
        "       - Be specific, not general\n",
        "       - Maintain journalistic objectivity\n",
        "       - Make every word count\n",
        "       - Explain technical terms if necessary\n",
        "\n",
        "    Format: Create a single paragraph of 250-400 words that informs and engages.\n",
        "    Pattern: [Major News] + [Key Details/Data] + [Why It Matters/What's Next]\n",
        "\n",
        "    Focus on answering: What happened? Why is it significant? What's the impact?\n",
        "\n",
        "    IMPORTANT: Provide ONLY the summary paragraph. Avoid including any introductory phrases,\n",
        "    labels, or meta-text like \"Here's a summary\" or \"In AP/Reuters style.\"\n",
        "    Start directly with the news content.\n",
        "    \"\"\"\n",
        ")"
      ],
      "metadata": {
        "id": "ceSqJiQ0rAqf"
      },
      "execution_count": null,
      "outputs": []
    },
    {
      "cell_type": "code",
      "source": [
        "# Combines the 3 Agents under one workflow\n",
        "def process_news(topic: str):\n",
        "  \"\"\"Processing the whole workflow\"\"\"\n",
        "  with st.status('Processing information...', expanded=True) as status:\n",
        "    st.write('Searching for news articles...')\n",
        "    search_response = client.run(\n",
        "        agent=search_agent,\n",
        "        messages=[{\"role\": \"user\", \"content\": f\"Find recent news about {topic}\"}]\n",
        "    )\n",
        "    raw_news = search_response.messages[-1]['content']\n",
        "\n",
        "    st.write('Synthesizing news articles...')\n",
        "    synthesis_response = client.run(\n",
        "        agent=synthesis_agent,\n",
        "        messages=[{\"role\": \"user\", \"content\": raw_news}]\n",
        "    )\n",
        "    synthesised_news = synthesis_response.messages[-1]['content']\n",
        "\n",
        "    st.write('Summarizing news articles...')\n",
        "    summary_response = client.run(\n",
        "        agent=summary_agent,\n",
        "        messages=[{\"role\": \"user\", \"content\": synthesised_news}]\n",
        "    )\n",
        "\n",
        "  return raw_news, synthesised_news, summary_response.messages[-1]['content']"
      ],
      "metadata": {
        "id": "YPr8kpH3raGW"
      },
      "execution_count": null,
      "outputs": []
    },
    {
      "cell_type": "code",
      "source": [],
      "metadata": {
        "id": "SD8o8ETXr3nj"
      },
      "execution_count": null,
      "outputs": []
    }
  ]
}