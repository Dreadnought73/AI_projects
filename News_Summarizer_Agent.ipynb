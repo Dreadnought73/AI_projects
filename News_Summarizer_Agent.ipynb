{
  "nbformat": 4,
  "nbformat_minor": 0,
  "metadata": {
    "colab": {
      "provenance": [],
      "authorship_tag": "ABX9TyMehvavckazGAKRvQHQpVro",
      "include_colab_link": true
    },
    "kernelspec": {
      "name": "python3",
      "display_name": "Python 3"
    },
    "language_info": {
      "name": "python"
    }
  },
  "cells": [
    {
      "cell_type": "markdown",
      "metadata": {
        "id": "view-in-github",
        "colab_type": "text"
      },
      "source": [
        "<a href=\"https://colab.research.google.com/github/Dreadnought73/AI_projects/blob/main/News_Summarizer_Agent.ipynb\" target=\"_parent\"><img src=\"https://colab.research.google.com/assets/colab-badge.svg\" alt=\"Open In Colab\"/></a>"
      ]
    },
    {
      "cell_type": "markdown",
      "source": [
        "# Using prompt template"
      ],
      "metadata": {
        "id": "zOMG80g9OBnD"
      }
    },
    {
      "cell_type": "markdown",
      "source": [
        "**News summarizer with DDGS and OpenAI**"
      ],
      "metadata": {
        "id": "vOJRPkrFRa0m"
      }
    },
    {
      "cell_type": "markdown",
      "source": [
        "In this section, with the help of an LLM, it uses web search to find relevant articles and summarizes them based on the prompt template."
      ],
      "metadata": {
        "id": "R7Nw6ZLaDoZZ"
      }
    },
    {
      "cell_type": "code",
      "source": [
        "pip install duckduckgo_search"
      ],
      "metadata": {
        "id": "zU-n1C0Rk--m"
      },
      "execution_count": null,
      "outputs": []
    },
    {
      "cell_type": "code",
      "source": [
        "from duckduckgo_search import DDGS\n",
        "from openai import OpenAI\n",
        "\n",
        "llm = OpenAI(api_key='your_api_key')\n",
        "\n",
        "PROMPT_TEMPLATE = \"\"\"\n",
        "You are an expert in synthesizing and summarizing news articles across a wide range of topics.\n",
        "Your output should reflect both deep analytical ability and journalistic clarity, combining the precision of AP/Reuters style with the brevity and relevance expected in the digital age.\n",
        "\n",
        "Your task:\n",
        "1. Content Analysis & Synthesis\n",
        "   - Carefully read and analyze the provided news articles.\n",
        "   - Identify the key themes, facts, and developments.\n",
        "   - Distill overlapping or contrasting perspectives into a unified understanding.\n",
        "   - Create a concise, insightful report that captures the essence of the topic without losing important nuance.\n",
        "\n",
        "2. Summary Format & Style Guidelines\n",
        "   - Begin with the most newsworthy development.\n",
        "   - Highlight the key stakeholders, actions taken, and critical data or numbers.\n",
        "   - Explain why the development is significant now**, including any immediate implications or broader impact.\n",
        "   - Follow this structure:\n",
        "     [Major News] + [Key Details/Data] + [Why It Matters/What’s Next]\n",
        "   - Write a single paragraph (300–400 words).\n",
        "   - Style should include:\n",
        "     - Strong, active verbs\n",
        "     - Specificity and clarity\n",
        "     - Objective tone and neutral framing\n",
        "     - Definitions for technical terms if necessary\n",
        "     - No fluff—make every word count\n",
        "\n",
        "3. Final Section: Sources\n",
        "   - At the end of the summary, provide a Markdown list of the sources used (URLs, publication names, or article titles).\n",
        "\n",
        "Your output should both inform and engage while maintaining high editorial standards.\n",
        "\"\"\"\n",
        "\n",
        "# Using DuckDuckGo, it searches the news for 7 relevant articles\n",
        "def search_news(query: str):\n",
        "    with DDGS() as ddgs:\n",
        "        results = ddgs.news(query, max_results=7)\n",
        "        if results:\n",
        "          news_results = '/n/n'.join([\n",
        "              f\"Summary: {result.get('body')}/nSource: {result.get('source')}\"\n",
        "          for result in results])\n",
        "          return news_results\n",
        "        else:\n",
        "            return f\"No news found for {topic}.\"\n",
        "\n",
        "# Based on one prompt, it creates the summaries\n",
        "def summarize_content(content:str):\n",
        "  response = llm.chat.completions.create(\n",
        "      model='gpt-4o-mini',\n",
        "      messages=[\n",
        "          {\"role\": \"developer\", \"content\": PROMPT_TEMPLATE},\n",
        "          {\"role\": \"user\", \"content\": content}\n",
        "      ]\n",
        "  )\n",
        "  return response.choices[0].message.content"
      ],
      "metadata": {
        "id": "SuIghj_8nSbT"
      },
      "execution_count": null,
      "outputs": []
    },
    {
      "cell_type": "code",
      "source": [
        "# Combines the previous functions\n",
        "def router(topic: str):\n",
        "  raw_news = search_news(topic)\n",
        "  summary_response = summarize_content(raw_news)\n",
        "  return summary_response"
      ],
      "metadata": {
        "id": "h4FWJkQey4Y2"
      },
      "execution_count": null,
      "outputs": []
    },
    {
      "cell_type": "markdown",
      "source": [
        "# Using multi-agent system"
      ],
      "metadata": {
        "id": "oz1f2rYQN7to"
      }
    },
    {
      "cell_type": "code",
      "source": [
        "!pip install git+https://github.com/openai/swarm.git"
      ],
      "metadata": {
        "collapsed": true,
        "id": "ROZWiIC8ndml"
      },
      "execution_count": null,
      "outputs": []
    },
    {
      "cell_type": "markdown",
      "source": [
        "**News summarizer with Swarm**"
      ],
      "metadata": {
        "id": "y_ZBXHCK6bUJ"
      }
    },
    {
      "cell_type": "markdown",
      "source": [
        "In this section, with the help of an LLM, the task is divided among 3 separate agents. One searches the news articles, one extracts the information that can be useful, one summarizes the results."
      ],
      "metadata": {
        "id": "9Ev1LfTKGSpZ"
      }
    },
    {
      "cell_type": "code",
      "execution_count": null,
      "metadata": {
        "id": "4m75tALA01zu"
      },
      "outputs": [],
      "source": [
        "from duckduckgo_search import DDGS\n",
        "from swarm import Swarm, Agent\n",
        "from openai import OpenAI"
      ]
    },
    {
      "cell_type": "code",
      "source": [
        "llm = OpenAI(api_key='your_api_key')\n",
        "client = Swarm(client=llm)\n",
        "\n",
        "# Using DDGS to build a function that searches the top 5 results for the given topic.\n",
        "# If contents found, it combines them.\n",
        "def search_news(topic: str):\n",
        "    with DDGS() as ddgs:\n",
        "        results = ddgs.text(topic, max_results=5)\n",
        "        if results:\n",
        "            new_results = '/n/n'.join([\n",
        "                f\"Title: {result['title']}\\nSummary: {result['body']}\"\n",
        "                for result in results\n",
        "            ])\n",
        "        else:\n",
        "            return f\"No news found for {topic}.\"\n",
        "\n",
        "search_agent = Agent(\n",
        "    name=\"News Searcher\",\n",
        "    model='gpt-4o-mini',\n",
        "    instructions= \"\"\"\n",
        "    You are an expert at searching for news articles.\n",
        "    Your task is to find the latest news articles related to a given topic.\n",
        "    Make sure to use reliable and reputable sources during your search.\n",
        "    Return the raw search result in a structured format.\n",
        "    \"\"\",\n",
        "    functions=[search_news]\n",
        ")"
      ],
      "metadata": {
        "id": "_vjwsgs94M4W"
      },
      "execution_count": null,
      "outputs": []
    },
    {
      "cell_type": "code",
      "source": [
        "synthesis_agent = Agent(\n",
        "    name='Synthesiser Agent',\n",
        "    model='gpt-4o-mini',\n",
        "    instructions=\"\"\"\n",
        "    You are an expert at synthesising news articles on a wide range of topics.\n",
        "    Your task is to:\n",
        "    1. Analyze the raw news articles provided\n",
        "    2. Identify the key themes and important information\n",
        "    3. Combine information from multiple sources\n",
        "    4. Create a comprehensive but concise synthesis\n",
        "    5. Focus on facts and maintain journalistic objectivity\n",
        "    6. Write in a clear, professional style\n",
        "    Provide a 2-3 paragraph synthesis of the main points.\n",
        "    \"\"\"\n",
        ")"
      ],
      "metadata": {
        "id": "-8CEMswDqlRa"
      },
      "execution_count": null,
      "outputs": []
    },
    {
      "cell_type": "code",
      "source": [
        "summary_agent = Agent(\n",
        "    name='Summary Agent',\n",
        "    model='gpt-4o-mini',\n",
        "    instructions= \"\"\"\n",
        "    You are an expert news summarizer combining AP and Reuters style clarity with digital-age brevity.\n",
        "\n",
        "    Your task:\n",
        "    1. Core Information:\n",
        "       - Lead with the most newsworthy development\n",
        "       - Include key stakeholders and their actions\n",
        "       - Add critical numbers/data if relevant\n",
        "       - Explain why this matters now\n",
        "       - Mention immediate implications\n",
        "\n",
        "    2. Style Guidelines:\n",
        "       - Use strong, active verbs\n",
        "       - Be specific, not general\n",
        "       - Maintain journalistic objectivity\n",
        "       - Make every word count\n",
        "       - Explain technical terms if necessary\n",
        "\n",
        "    Format: Create a single paragraph of 250-400 words that informs and engages.\n",
        "    Pattern: [Major News] + [Key Details/Data] + [Why It Matters/What's Next]\n",
        "\n",
        "    Focus on answering: What happened? Why is it significant? What's the impact?\n",
        "\n",
        "    IMPORTANT: Provide ONLY the summary paragraph. Avoid including any introductory phrases,\n",
        "    labels, or meta-text like \"Here's a summary\" or \"In AP/Reuters style.\"\n",
        "    Start directly with the news content.\n",
        "    \"\"\"\n",
        ")"
      ],
      "metadata": {
        "id": "ceSqJiQ0rAqf"
      },
      "execution_count": null,
      "outputs": []
    },
    {
      "cell_type": "code",
      "source": [
        "# Combines the 3 Agents under one workflow\n",
        "def process_news(topic: str):\n",
        "  \"\"\"Processing the whole workflow\"\"\"\n",
        "  with st.status('Processing information...', expanded=True) as status:\n",
        "    st.write('Searching for news articles...')\n",
        "    search_response = client.run(\n",
        "        agent=search_agent,\n",
        "        messages=[{\"role\": \"user\", \"content\": f\"Find recent news about {topic}\"}]\n",
        "    )\n",
        "    raw_news = search_response.messages[-1]['content']\n",
        "\n",
        "    st.write('Synthesizing news articles...')\n",
        "    synthesis_response = client.run(\n",
        "        agent=synthesis_agent,\n",
        "        messages=[{\"role\": \"user\", \"content\": raw_news}]\n",
        "    )\n",
        "    synthesised_news = synthesis_response.messages[-1]['content']\n",
        "\n",
        "    st.write('Summarizing news articles...')\n",
        "    summary_response = client.run(\n",
        "        agent=summary_agent,\n",
        "        messages=[{\"role\": \"user\", \"content\": synthesised_news}]\n",
        "    )\n",
        "\n",
        "  return raw_news, synthesised_news, summary_response.messages[-1]['content']"
      ],
      "metadata": {
        "id": "YPr8kpH3raGW"
      },
      "execution_count": null,
      "outputs": []
    },
    {
      "cell_type": "code",
      "source": [],
      "metadata": {
        "id": "SD8o8ETXr3nj"
      },
      "execution_count": null,
      "outputs": []
    }
  ]
}