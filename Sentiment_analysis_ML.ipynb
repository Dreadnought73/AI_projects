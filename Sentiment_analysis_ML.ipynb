{
  "nbformat": 4,
  "nbformat_minor": 0,
  "metadata": {
    "colab": {
      "provenance": [],
      "mount_file_id": "1cJPPhTHnHmWyBF5xKUV1qDX4wR4Ujg9r",
      "authorship_tag": "ABX9TyO32mrVyNhDaM/4TZpl1+gf",
      "include_colab_link": true
    },
    "kernelspec": {
      "name": "python3",
      "display_name": "Python 3"
    },
    "language_info": {
      "name": "python"
    }
  },
  "cells": [
    {
      "cell_type": "markdown",
      "metadata": {
        "id": "view-in-github",
        "colab_type": "text"
      },
      "source": [
        "<a href=\"https://colab.research.google.com/github/Dreadnought73/AI_projects/blob/main/Sentiment_analysis_ML.ipynb\" target=\"_parent\"><img src=\"https://colab.research.google.com/assets/colab-badge.svg\" alt=\"Open In Colab\"/></a>"
      ]
    },
    {
      "cell_type": "markdown",
      "source": [
        "# Training ML models for sentiment analysis"
      ],
      "metadata": {
        "id": "THwHu1sFaGGh"
      }
    },
    {
      "cell_type": "code",
      "execution_count": null,
      "metadata": {
        "id": "ZBSuY0JVI6RM"
      },
      "outputs": [],
      "source": [
        "import nltk\n",
        "import re\n",
        "import pandas as pd\n",
        "import numpy as np\n",
        "from sklearn.model_selection import train_test_split\n",
        "from sklearn.feature_extraction.text import TfidfVectorizer\n",
        "from sklearn.metrics import classification_report, confusion_matrix\n",
        "from nltk.corpus import stopwords\n",
        "from nltk.tokenize import word_tokenize\n",
        "from nltk.stem import WordNetLemmatizer\n",
        "import joblib\n",
        "import tensorflow as tf\n",
        "import keras\n",
        "from keras import layers\n",
        "from tensorflow.keras.models import Sequential\n",
        "from tensorflow.keras.layers import Dense, Dropout\n",
        "from tensorflow.keras.callbacks import EarlyStopping, ModelCheckpoint\n",
        "from tensorflow.keras.utils import to_categorical"
      ]
    },
    {
      "cell_type": "markdown",
      "source": [
        "Setting a function for preprocessing text: all lower, no special character, tokenize, used in its original form"
      ],
      "metadata": {
        "id": "AVmyHpK5aRSR"
      }
    },
    {
      "cell_type": "code",
      "source": [
        "nltk.download('punkt_tab')\n",
        "nltk.download('stopwords')\n",
        "nltk.download('wordnet')\n",
        "\n",
        "stop_words = set(stopwords.words('english'))\n",
        "lemmatizer = WordNetLemmatizer()\n",
        "\n",
        "def preprocess_text(text):\n",
        "  text = text.lower()\n",
        "  text = re.sub(r'[^a-z\\s]', '', text) # Remove special characters, numbers, and punctuation\n",
        "  tokens = word_tokenize(text)\n",
        "  tokens = [lemmatizer.lemmatize(token) for token in tokens if token not in stop_words] # this changes the word to their root\n",
        "  return ' '.join(tokens)"
      ],
      "metadata": {
        "colab": {
          "base_uri": "https://localhost:8080/"
        },
        "id": "dEpqyV-ZJJX9",
        "outputId": "4ad45ca1-c949-479e-d0d7-336c145d4528"
      },
      "execution_count": null,
      "outputs": [
        {
          "output_type": "stream",
          "name": "stderr",
          "text": [
            "[nltk_data] Downloading package punkt_tab to /root/nltk_data...\n",
            "[nltk_data]   Package punkt_tab is already up-to-date!\n",
            "[nltk_data] Downloading package stopwords to /root/nltk_data...\n",
            "[nltk_data]   Package stopwords is already up-to-date!\n",
            "[nltk_data] Downloading package wordnet to /root/nltk_data...\n",
            "[nltk_data]   Package wordnet is already up-to-date!\n"
          ]
        }
      ]
    },
    {
      "cell_type": "code",
      "source": [
        "def load_and_preprocess_data(file_path):\n",
        "  df = pd.read_csv(file_path)\n",
        "  df['preprocessed_text'] = df['text'].apply(preprocess_text)\n",
        "  return df"
      ],
      "metadata": {
        "id": "MXi_LSqAYno5"
      },
      "execution_count": null,
      "outputs": []
    },
    {
      "cell_type": "markdown",
      "source": [
        "With the help of a Pipeline, defining a function that uses a certain model to train the dataset after it was vectorized."
      ],
      "metadata": {
        "id": "1OCi89i_cmzD"
      }
    },
    {
      "cell_type": "code",
      "source": [
        "from sklearn.pipeline import Pipeline\n",
        "from sklearn.linear_model import LogisticRegression\n",
        "from sklearn.svm import SVC\n",
        "from sklearn.ensemble import RandomForestClassifier\n",
        "from sklearn.naive_bayes import MultinomialNB\n",
        "\n",
        "def train_model(model_type, X_train, y_train):\n",
        "  \"\"\"\n",
        "  The function will run for 3 classifier model: Random Forest, Logistic Regression, Naive Bayes\n",
        "\n",
        "  Args:\n",
        "  model_type: model abbreviation to decide which one to use\n",
        "  X_train: training data\n",
        "  y_train: training labels\n",
        "\n",
        "  Return:\n",
        "  pipeline: the trained model\n",
        "  \"\"\"\n",
        "  if model_type == 'rf':\n",
        "    model = RandomForestClassifier(n_estimators=50, random_state=42)\n",
        "  elif model_type == 'lr':\n",
        "    model = LogisticRegression(max_iter=500, C=1.0)\n",
        "  elif model_type == 'nb':\n",
        "    model = MultinomialNB()\n",
        "  else:\n",
        "    raise ValueError(\"Invalid model type. Choose from 'rf', 'lr', 'nb'.\")\n",
        "\n",
        "  # Build the pipeline\n",
        "  pipeline = Pipeline([\n",
        "      ('tf', TfidfVectorizer(max_features=5000, ngram_range=(1,2))), # max_features: limits down to the 5000 most frequent words; ngram_range: what groups of words should it take into account (1 to 2)\n",
        "      # ('lr', LogisticRegression(max_iter=500, C=1.0)) # C: regularization step to prevent overfitting\n",
        "      ('model_type', model)\n",
        "  ])\n",
        "  # fit the pipeline\n",
        "  pipeline.fit(X_train, y_train)\n",
        "  return pipeline"
      ],
      "metadata": {
        "id": "uq1wiUzVYnbE"
      },
      "execution_count": null,
      "outputs": []
    },
    {
      "cell_type": "code",
      "source": [
        "def evaluate_model(pipeline, X_test, y_test):\n",
        "  y_pred = pipeline.predict(X_test)\n",
        "\n",
        "  print(\"Classification Report:\")\n",
        "  print(classification_report(y_test, y_pred, target_names=['positive', 'negative']))\n",
        "\n",
        "  print(\"Confusion matrix:\")\n",
        "  print(confusion_matrix(y_test, y_pred))"
      ],
      "metadata": {
        "id": "Hf_O2lpPYnYb"
      },
      "execution_count": null,
      "outputs": []
    },
    {
      "cell_type": "markdown",
      "source": [
        "This function is useful to predict completely new sentences."
      ],
      "metadata": {
        "id": "BgJklOVmc5VV"
      }
    },
    {
      "cell_type": "code",
      "source": [
        "def predict_sentiment(pipeline, sentences):\n",
        "  preprocessed_text = [preprocess_text(sentence) for sentence in sentences]\n",
        "  predictions = pipeline.predict(preprocessed_text)\n",
        "\n",
        "  labels = {0:'negative', 1:'positive'}\n",
        "  return [labels[pred] for pred in predictions]"
      ],
      "metadata": {
        "id": "D3RrEPekYnUH"
      },
      "execution_count": null,
      "outputs": []
    },
    {
      "cell_type": "code",
      "source": [
        "model = {\n",
        "    'svc': SVC(C=100, kernel='linear'),\n",
        "    'rf': RandomForestClassifier(n_estimators=100, random_state=42),\n",
        "    'nb': MultinomialNB(),\n",
        "    'lr': LogisticRegression(max_iter=500, C=1.0)\n",
        "}"
      ],
      "metadata": {
        "id": "XDVmKbWMYnKe"
      },
      "execution_count": null,
      "outputs": []
    },
    {
      "cell_type": "markdown",
      "source": [
        "# Sentiment analysis with Logistic Regression"
      ],
      "metadata": {
        "id": "gbLPGRd1dY7w"
      }
    },
    {
      "cell_type": "markdown",
      "source": [
        "Putting everything together for logistic regression!"
      ],
      "metadata": {
        "id": "ojHi-kb_dF_Z"
      }
    },
    {
      "cell_type": "code",
      "source": [
        "def main():\n",
        "  df = load_and_preprocess_data('/content/drive/MyDrive/Coding_data_files/IMDB_sentiment/Train.csv')\n",
        "\n",
        "  X = df['preprocessed_text']\n",
        "  y = df['label']\n",
        "  X_train, X_test, y_train, y_test = train_test_split(X, y, test_size=.2, random_state=42)\n",
        "\n",
        "  pipeline = train_model('lr', X_train, y_train)\n",
        "  evaluate_model(pipeline, X_test, y_test)\n",
        "\n",
        "  example_sentences = [\n",
        "      \"This film was an absolute masterpiece from start to finish. The cinematography was breathtaking, capturing the essence of the story in every frame.\",\n",
        "      \"Wow, what a ride! This action-packed thriller exceeded all my expectations.\",\n",
        "      \"I was profoundly disappointed by this film. The plot was convoluted and nonsensical, jumping between storylines without any clear direction or purpose.\",\n",
        "      \"This movie was a complete mess. The editing was jarring and confusing, making it hard to follow the narrative.\",\n",
        "      \"Absolutely terrible. This film failed on almost every level.\",\n",
        "      \"A heartwarming and charming independent film that truly captured my heart. The story was simple but told with such sincerity and warmth.\",\n",
        "      \"A frustrating and ultimately pointless viewing experience. The film promised an intriguing premise but failed to deliver on any of its potential.\",\n",
        "      \"Visually spectacular and incredibly imaginative! This sci-fi epic transported me to another world with its stunning visuals and intricate world-building.\",\n",
        "      \"An unexpectedly brilliant comedy that had me laughing out loud from beginning to end. The script was incredibly clever and sharp, with hilarious gags and witty one-liners delivered perfectly by the talented cast.\",\n",
        "      \"Utterly forgettable. This film blended into the background with its generic story, bland characters, and uninspired visuals.\",\n",
        "      \"This sequel completely missed the mark. It failed to capture the magic of the original film, rehashing old plot points without adding anything new or interesting.\"\n",
        "  ]\n",
        "\n",
        "  prediction_sentence = predict_sentiment(pipeline, example_sentences)\n",
        "  for sentence, sentiment in zip(example_sentences, prediction_sentence):\n",
        "        print(f\"Sentence: {sentence}\")\n",
        "        print(f\"Predicted Sentiment: {sentiment}\\n\")\n"
      ],
      "metadata": {
        "id": "msbPwcGdYnRx"
      },
      "execution_count": null,
      "outputs": []
    },
    {
      "cell_type": "markdown",
      "source": [
        "Result for the Logistic Regression model"
      ],
      "metadata": {
        "id": "BDvcRC_-1SOC"
      }
    },
    {
      "cell_type": "code",
      "source": [
        "if __name__ == \"__main__\":\n",
        "    main()"
      ],
      "metadata": {
        "colab": {
          "base_uri": "https://localhost:8080/"
        },
        "id": "rr8TJ5sVYnP3",
        "outputId": "5c7d0430-3d74-4ba3-a726-7972ef5aaa85"
      },
      "execution_count": null,
      "outputs": [
        {
          "output_type": "stream",
          "name": "stdout",
          "text": [
            "Classification Report:\n",
            "              precision    recall  f1-score   support\n",
            "\n",
            "    positive       0.89      0.87      0.88      3966\n",
            "    negative       0.88      0.89      0.89      4034\n",
            "\n",
            "    accuracy                           0.88      8000\n",
            "   macro avg       0.88      0.88      0.88      8000\n",
            "weighted avg       0.88      0.88      0.88      8000\n",
            "\n",
            "Confusion matrix:\n",
            "[[3467  499]\n",
            " [ 426 3608]]\n",
            "Sentence: This film was an absolute masterpiece from start to finish. The cinematography was breathtaking, capturing the essence of the story in every frame.\n",
            "Predicted Sentiment: positive\n",
            "\n",
            "Sentence: Wow, what a ride! This action-packed thriller exceeded all my expectations.\n",
            "Predicted Sentiment: positive\n",
            "\n",
            "Sentence: I was profoundly disappointed by this film. The plot was convoluted and nonsensical, jumping between storylines without any clear direction or purpose.\n",
            "Predicted Sentiment: negative\n",
            "\n",
            "Sentence: This movie was a complete mess. The editing was jarring and confusing, making it hard to follow the narrative.\n",
            "Predicted Sentiment: negative\n",
            "\n",
            "Sentence: Absolutely terrible. This film failed on almost every level.\n",
            "Predicted Sentiment: negative\n",
            "\n",
            "Sentence: A heartwarming and charming independent film that truly captured my heart. The story was simple but told with such sincerity and warmth.\n",
            "Predicted Sentiment: positive\n",
            "\n",
            "Sentence: A frustrating and ultimately pointless viewing experience. The film promised an intriguing premise but failed to deliver on any of its potential.\n",
            "Predicted Sentiment: negative\n",
            "\n",
            "Sentence: Visually spectacular and incredibly imaginative! This sci-fi epic transported me to another world with its stunning visuals and intricate world-building.\n",
            "Predicted Sentiment: positive\n",
            "\n",
            "Sentence: An unexpectedly brilliant comedy that had me laughing out loud from beginning to end. The script was incredibly clever and sharp, with hilarious gags and witty one-liners delivered perfectly by the talented cast.\n",
            "Predicted Sentiment: positive\n",
            "\n",
            "Sentence: Utterly forgettable. This film blended into the background with its generic story, bland characters, and uninspired visuals.\n",
            "Predicted Sentiment: negative\n",
            "\n",
            "Sentence: This sequel completely missed the mark. It failed to capture the magic of the original film, rehashing old plot points without adding anything new or interesting.\n",
            "Predicted Sentiment: negative\n",
            "\n"
          ]
        }
      ]
    },
    {
      "cell_type": "markdown",
      "source": [
        "We can see a relatively good performance on both the dataset and new sentences."
      ],
      "metadata": {
        "id": "c2YLgTPxdK6Z"
      }
    },
    {
      "cell_type": "markdown",
      "source": [
        "# Sentiment analysis with Random Forest classifier"
      ],
      "metadata": {
        "id": "YkYk3RPwdgPD"
      }
    },
    {
      "cell_type": "markdown",
      "source": [
        "Result for the Random Forest classifier model"
      ],
      "metadata": {
        "id": "_bR6ar_WZjJv"
      }
    },
    {
      "cell_type": "code",
      "source": [
        "def main_rf():\n",
        "  df = load_and_preprocess_data('/content/drive/MyDrive/Coding_data_files/IMDB_sentiment/Train.csv')\n",
        "\n",
        "  X = df['preprocessed_text']\n",
        "  y = df['label']\n",
        "  X_train, X_test, y_train, y_test = train_test_split(X, y, test_size=.2, random_state=42)\n",
        "\n",
        "  pipeline = train_model('rf', X_train, y_train)\n",
        "  evaluate_model(pipeline, X_test, y_test)\n",
        "\n",
        "  example_sentences = [\n",
        "      \"This film was an absolute masterpiece from start to finish. The cinematography was breathtaking, capturing the essence of the story in every frame.\",\n",
        "      \"Wow, what a ride! This action-packed thriller exceeded all my expectations.\",\n",
        "      \"I was profoundly disappointed by this film. The plot was convoluted and nonsensical, jumping between storylines without any clear direction or purpose.\",\n",
        "      \"This movie was a complete mess. The editing was jarring and confusing, making it hard to follow the narrative.\",\n",
        "      \"Absolutely terrible. This film failed on almost every level.\",\n",
        "      \"A heartwarming and charming independent film that truly captured my heart. The story was simple but told with such sincerity and warmth.\",\n",
        "      \"A frustrating and ultimately pointless viewing experience. The film promised an intriguing premise but failed to deliver on any of its potential.\",\n",
        "      \"Visually spectacular and incredibly imaginative! This sci-fi epic transported me to another world with its stunning visuals and intricate world-building.\",\n",
        "      \"An unexpectedly brilliant comedy that had me laughing out loud from beginning to end. The script was incredibly clever and sharp, with hilarious gags and witty one-liners delivered perfectly by the talented cast.\",\n",
        "      \"Utterly forgettable. This film blended into the background with its generic story, bland characters, and uninspired visuals.\",\n",
        "      \"This sequel completely missed the mark. It failed to capture the magic of the original film, rehashing old plot points without adding anything new or interesting.\"\n",
        "  ]\n",
        "\n",
        "  prediction_sentence = predict_sentiment(pipeline, example_sentences)\n",
        "  for sentence, sentiment in zip(example_sentences, prediction_sentence):\n",
        "        print(f\"Sentence: {sentence}\")\n",
        "        print(f\"Predicted Sentiment: {sentiment}\\n\")"
      ],
      "metadata": {
        "id": "DCFfHGDCYyA4"
      },
      "execution_count": null,
      "outputs": []
    },
    {
      "cell_type": "code",
      "source": [
        "main_rf()"
      ],
      "metadata": {
        "id": "0lbT6drw1OuM",
        "colab": {
          "base_uri": "https://localhost:8080/"
        },
        "outputId": "ff2676c3-7c4e-4baa-9531-439168263d99"
      },
      "execution_count": null,
      "outputs": [
        {
          "output_type": "stream",
          "name": "stdout",
          "text": [
            "Classification Report:\n",
            "              precision    recall  f1-score   support\n",
            "\n",
            "    positive       0.83      0.85      0.84      3966\n",
            "    negative       0.85      0.83      0.84      4034\n",
            "\n",
            "    accuracy                           0.84      8000\n",
            "   macro avg       0.84      0.84      0.84      8000\n",
            "weighted avg       0.84      0.84      0.84      8000\n",
            "\n",
            "Confusion matrix:\n",
            "[[3374  592]\n",
            " [ 701 3333]]\n",
            "Sentence: This film was an absolute masterpiece from start to finish. The cinematography was breathtaking, capturing the essence of the story in every frame.\n",
            "Predicted Sentiment: positive\n",
            "\n",
            "Sentence: Wow, what a ride! This action-packed thriller exceeded all my expectations.\n",
            "Predicted Sentiment: positive\n",
            "\n",
            "Sentence: I was profoundly disappointed by this film. The plot was convoluted and nonsensical, jumping between storylines without any clear direction or purpose.\n",
            "Predicted Sentiment: negative\n",
            "\n",
            "Sentence: This movie was a complete mess. The editing was jarring and confusing, making it hard to follow the narrative.\n",
            "Predicted Sentiment: negative\n",
            "\n",
            "Sentence: Absolutely terrible. This film failed on almost every level.\n",
            "Predicted Sentiment: negative\n",
            "\n",
            "Sentence: A heartwarming and charming independent film that truly captured my heart. The story was simple but told with such sincerity and warmth.\n",
            "Predicted Sentiment: positive\n",
            "\n",
            "Sentence: A frustrating and ultimately pointless viewing experience. The film promised an intriguing premise but failed to deliver on any of its potential.\n",
            "Predicted Sentiment: negative\n",
            "\n",
            "Sentence: Visually spectacular and incredibly imaginative! This sci-fi epic transported me to another world with its stunning visuals and intricate world-building.\n",
            "Predicted Sentiment: positive\n",
            "\n",
            "Sentence: An unexpectedly brilliant comedy that had me laughing out loud from beginning to end. The script was incredibly clever and sharp, with hilarious gags and witty one-liners delivered perfectly by the talented cast.\n",
            "Predicted Sentiment: positive\n",
            "\n",
            "Sentence: Utterly forgettable. This film blended into the background with its generic story, bland characters, and uninspired visuals.\n",
            "Predicted Sentiment: positive\n",
            "\n",
            "Sentence: This sequel completely missed the mark. It failed to capture the magic of the original film, rehashing old plot points without adding anything new or interesting.\n",
            "Predicted Sentiment: negative\n",
            "\n"
          ]
        }
      ]
    },
    {
      "cell_type": "markdown",
      "source": [
        "# Sentiment analysis with Naive Bayes classifier"
      ],
      "metadata": {
        "id": "cknHuQWcjenn"
      }
    },
    {
      "cell_type": "code",
      "source": [
        "def main_nb():\n",
        "  df = load_and_preprocess_data('/content/drive/MyDrive/Coding_data_files/IMDB_sentiment/Train.csv')\n",
        "\n",
        "  X = df['preprocessed_text']\n",
        "  y = df['label']\n",
        "  X_train, X_test, y_train, y_test = train_test_split(X, y, test_size=.2, random_state=42)\n",
        "\n",
        "  pipeline = train_model('nb', X_train, y_train)\n",
        "  evaluate_model(pipeline, X_test, y_test)\n",
        "\n",
        "  example_sentences = [\n",
        "      \"This film was an absolute masterpiece from start to finish. The cinematography was breathtaking, capturing the essence of the story in every frame.\",\n",
        "      \"Wow, what a ride! This action-packed thriller exceeded all my expectations.\",\n",
        "      \"I was profoundly disappointed by this film. The plot was convoluted and nonsensical, jumping between storylines without any clear direction or purpose.\",\n",
        "      \"This movie was a complete mess. The editing was jarring and confusing, making it hard to follow the narrative.\",\n",
        "      \"Absolutely terrible. This film failed on almost every level.\",\n",
        "      \"A heartwarming and charming independent film that truly captured my heart. The story was simple but told with such sincerity and warmth.\",\n",
        "      \"A frustrating and ultimately pointless viewing experience. The film promised an intriguing premise but failed to deliver on any of its potential.\",\n",
        "      \"Visually spectacular and incredibly imaginative! This sci-fi epic transported me to another world with its stunning visuals and intricate world-building.\",\n",
        "      \"An unexpectedly brilliant comedy that had me laughing out loud from beginning to end. The script was incredibly clever and sharp, with hilarious gags and witty one-liners delivered perfectly by the talented cast.\",\n",
        "      \"Utterly forgettable. This film blended into the background with its generic story, bland characters, and uninspired visuals.\",\n",
        "      \"This sequel completely missed the mark. It failed to capture the magic of the original film, rehashing old plot points without adding anything new or interesting.\"\n",
        "  ]\n",
        "\n",
        "  prediction_sentence = predict_sentiment(pipeline, example_sentences)\n",
        "  for sentence, sentiment in zip(example_sentences, prediction_sentence):\n",
        "        print(f\"Sentence: {sentence}\")\n",
        "        print(f\"Predicted Sentiment: {sentiment}\\n\")"
      ],
      "metadata": {
        "id": "WUGpuRkPin7a"
      },
      "execution_count": null,
      "outputs": []
    },
    {
      "cell_type": "code",
      "source": [
        "main_nb()"
      ],
      "metadata": {
        "colab": {
          "base_uri": "https://localhost:8080/"
        },
        "id": "vQsioImIiwnO",
        "outputId": "db7e6d74-425a-4f11-8e0f-54c738041376"
      },
      "execution_count": null,
      "outputs": [
        {
          "output_type": "stream",
          "name": "stdout",
          "text": [
            "Classification Report:\n",
            "              precision    recall  f1-score   support\n",
            "\n",
            "    positive       0.86      0.84      0.85      3966\n",
            "    negative       0.85      0.86      0.85      4034\n",
            "\n",
            "    accuracy                           0.85      8000\n",
            "   macro avg       0.85      0.85      0.85      8000\n",
            "weighted avg       0.85      0.85      0.85      8000\n",
            "\n",
            "Confusion matrix:\n",
            "[[3329  637]\n",
            " [ 550 3484]]\n",
            "Sentence: This film was an absolute masterpiece from start to finish. The cinematography was breathtaking, capturing the essence of the story in every frame.\n",
            "Predicted Sentiment: positive\n",
            "\n",
            "Sentence: Wow, what a ride! This action-packed thriller exceeded all my expectations.\n",
            "Predicted Sentiment: positive\n",
            "\n",
            "Sentence: I was profoundly disappointed by this film. The plot was convoluted and nonsensical, jumping between storylines without any clear direction or purpose.\n",
            "Predicted Sentiment: negative\n",
            "\n",
            "Sentence: This movie was a complete mess. The editing was jarring and confusing, making it hard to follow the narrative.\n",
            "Predicted Sentiment: negative\n",
            "\n",
            "Sentence: Absolutely terrible. This film failed on almost every level.\n",
            "Predicted Sentiment: negative\n",
            "\n",
            "Sentence: A heartwarming and charming independent film that truly captured my heart. The story was simple but told with such sincerity and warmth.\n",
            "Predicted Sentiment: positive\n",
            "\n",
            "Sentence: A frustrating and ultimately pointless viewing experience. The film promised an intriguing premise but failed to deliver on any of its potential.\n",
            "Predicted Sentiment: negative\n",
            "\n",
            "Sentence: Visually spectacular and incredibly imaginative! This sci-fi epic transported me to another world with its stunning visuals and intricate world-building.\n",
            "Predicted Sentiment: positive\n",
            "\n",
            "Sentence: An unexpectedly brilliant comedy that had me laughing out loud from beginning to end. The script was incredibly clever and sharp, with hilarious gags and witty one-liners delivered perfectly by the talented cast.\n",
            "Predicted Sentiment: positive\n",
            "\n",
            "Sentence: Utterly forgettable. This film blended into the background with its generic story, bland characters, and uninspired visuals.\n",
            "Predicted Sentiment: negative\n",
            "\n",
            "Sentence: This sequel completely missed the mark. It failed to capture the magic of the original film, rehashing old plot points without adding anything new or interesting.\n",
            "Predicted Sentiment: negative\n",
            "\n"
          ]
        }
      ]
    },
    {
      "cell_type": "markdown",
      "source": [
        "Overall, the results were relatively good, and they can be further optimized through hyperparameter optimization."
      ],
      "metadata": {
        "id": "74xwRcqynMY5"
      }
    }
  ]
}